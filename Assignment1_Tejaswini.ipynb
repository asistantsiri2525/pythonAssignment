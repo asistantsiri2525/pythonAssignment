{
 "cells": [
  {
   "cell_type": "markdown",
   "id": "86c37de1-f3c7-486e-a139-2294b5cdd3cd",
   "metadata": {},
   "source": [
    " # EXERCISES"
   ]
  },
  {
   "cell_type": "markdown",
   "id": "06a80afa-0950-4e03-adc5-290452f84def",
   "metadata": {},
   "source": [
    "## what is 7 to the power of 4?"
   ]
  },
  {
   "cell_type": "code",
   "execution_count": 4,
   "id": "4138d924-a9cb-4a7f-98a1-c49c4c109609",
   "metadata": {},
   "outputs": [
    {
     "data": {
      "text/plain": [
       "2401"
      ]
     },
     "execution_count": 4,
     "metadata": {},
     "output_type": "execute_result"
    }
   ],
   "source": [
    "7**4"
   ]
  },
  {
   "cell_type": "code",
   "execution_count": 6,
   "id": "74cdf777-5fd4-4e39-9b6c-e355732d7176",
   "metadata": {},
   "outputs": [],
   "source": [
    "## splite this string"
   ]
  },
  {
   "cell_type": "code",
   "execution_count": 8,
   "id": "100cdb5e-afbd-446e-98ea-df775d00de74",
   "metadata": {},
   "outputs": [],
   "source": [
    "s=\"Hii there yogesh\""
   ]
  },
  {
   "cell_type": "code",
   "execution_count": 10,
   "id": "6f44fda0-691b-4307-bfbd-bea4aaa33e9d",
   "metadata": {},
   "outputs": [
    {
     "data": {
      "text/plain": [
       "str"
      ]
     },
     "execution_count": 10,
     "metadata": {},
     "output_type": "execute_result"
    }
   ],
   "source": [
    "type(s)"
   ]
  },
  {
   "cell_type": "code",
   "execution_count": 14,
   "id": "797f79ac-842d-4a3a-8384-c743ed7bf064",
   "metadata": {},
   "outputs": [
    {
     "data": {
      "text/plain": [
       "['Hii', 'there', 'yogesh']"
      ]
     },
     "execution_count": 14,
     "metadata": {},
     "output_type": "execute_result"
    }
   ],
   "source": [
    "s.split()"
   ]
  },
  {
   "cell_type": "code",
   "execution_count": 18,
   "id": "a777d096-53ec-4ac3-9c48-88498bca44b0",
   "metadata": {},
   "outputs": [],
   "source": [
    "## give the variable \n",
    "##planet =\"Earth\"\n",
    "#dimeter =12742\n",
    "#The diameter of Earth is 12742 kilometr"
   ]
  },
  {
   "cell_type": "code",
   "execution_count": 30,
   "id": "d2f3b7fd-c904-4318-9ef4-6ab770f4d323",
   "metadata": {},
   "outputs": [],
   "source": [
    "planet=\"Earth\"\n",
    "diameter=12742"
   ]
  },
  {
   "cell_type": "code",
   "execution_count": 32,
   "id": "75532938-1f4b-4f67-90a2-e37abbd1e2bb",
   "metadata": {},
   "outputs": [
    {
     "data": {
      "text/plain": [
       "'The diameter of Earth is 12742 kilometr'"
      ]
     },
     "execution_count": 32,
     "metadata": {},
     "output_type": "execute_result"
    }
   ],
   "source": [
    "\"The diameter of {} is {} kilometr\".format(planet, diameter)"
   ]
  },
  {
   "cell_type": "markdown",
   "id": "3e606c23-7f44-4211-b27a-e309877d39a5",
   "metadata": {},
   "source": [
    "## Give this list use indexing to grab the word \"hello\""
   ]
  },
  {
   "cell_type": "code",
   "execution_count": 38,
   "id": "148bb2ca-cd52-4199-b16b-9806184726ad",
   "metadata": {},
   "outputs": [],
   "source": [
    "list=[1,2,[3,4],[5,[100,200,['hello']],23,11,],1,7]"
   ]
  },
  {
   "cell_type": "code",
   "execution_count": 40,
   "id": "8fd43528-504d-4690-9611-732005733bc8",
   "metadata": {},
   "outputs": [
    {
     "data": {
      "text/plain": [
       "list"
      ]
     },
     "execution_count": 40,
     "metadata": {},
     "output_type": "execute_result"
    }
   ],
   "source": [
    "type(list)"
   ]
  },
  {
   "cell_type": "code",
   "execution_count": 49,
   "id": "20d82135-fb99-4e24-82b2-fe1efec22094",
   "metadata": {},
   "outputs": [
    {
     "data": {
      "text/plain": [
       "[5, [100, 200, ['hello']], 23, 11]"
      ]
     },
     "execution_count": 49,
     "metadata": {},
     "output_type": "execute_result"
    }
   ],
   "source": [
    "list[3]"
   ]
  },
  {
   "cell_type": "code",
   "execution_count": 53,
   "id": "0e78da59-fd66-4e20-84c0-8d299761fd72",
   "metadata": {},
   "outputs": [
    {
     "data": {
      "text/plain": [
       "[100, 200, ['hello']]"
      ]
     },
     "execution_count": 53,
     "metadata": {},
     "output_type": "execute_result"
    }
   ],
   "source": [
    "list[3][1]"
   ]
  },
  {
   "cell_type": "code",
   "execution_count": 55,
   "id": "9a790b02-b77f-48db-be81-a1a0acf4968f",
   "metadata": {},
   "outputs": [
    {
     "data": {
      "text/plain": [
       "['hello']"
      ]
     },
     "execution_count": 55,
     "metadata": {},
     "output_type": "execute_result"
    }
   ],
   "source": [
    "list[3][1][2]"
   ]
  },
  {
   "cell_type": "code",
   "execution_count": 57,
   "id": "3d5ce14d-5439-4387-b8cd-1438c91b6fa0",
   "metadata": {},
   "outputs": [
    {
     "data": {
      "text/plain": [
       "'hello'"
      ]
     },
     "execution_count": 57,
     "metadata": {},
     "output_type": "execute_result"
    }
   ],
   "source": [
    "list[3][1][2][0]"
   ]
  },
  {
   "cell_type": "markdown",
   "id": "23a569ec-f946-4eeb-b5e3-b7e82607751c",
   "metadata": {},
   "source": [
    "## Give this nested dictionary grab the word \"hello\".be prepared ,this will be annoying trick"
   ]
  },
  {
   "cell_type": "code",
   "execution_count": 63,
   "id": "7b6241a8-1dcf-4ff4-9cd9-d23c861d8b52",
   "metadata": {},
   "outputs": [],
   "source": [
    "d={'k1':[1,2,3,{'trick':['oh','man','inception',{'target':[1,2,3,'hello']}]}]}"
   ]
  },
  {
   "cell_type": "code",
   "execution_count": 65,
   "id": "d21c82d5-9221-48dc-84bf-5ec4d54eaf42",
   "metadata": {},
   "outputs": [
    {
     "data": {
      "text/plain": [
       "dict"
      ]
     },
     "execution_count": 65,
     "metadata": {},
     "output_type": "execute_result"
    }
   ],
   "source": [
    "type(d)"
   ]
  },
  {
   "cell_type": "code",
   "execution_count": 67,
   "id": "c7649a0e-ea0d-4ee5-9cb7-15f27e0d008c",
   "metadata": {},
   "outputs": [
    {
     "data": {
      "text/plain": [
       "[1,\n",
       " 2,\n",
       " 3,\n",
       " {'trick': ['oh', 'man', 'inception', {'target': [1, 2, 3, 'hello']}]}]"
      ]
     },
     "execution_count": 67,
     "metadata": {},
     "output_type": "execute_result"
    }
   ],
   "source": [
    "d['k1']"
   ]
  },
  {
   "cell_type": "code",
   "execution_count": 69,
   "id": "7365ac9c-8cfa-41f2-9102-3ce06a707a06",
   "metadata": {},
   "outputs": [
    {
     "data": {
      "text/plain": [
       "{'trick': ['oh', 'man', 'inception', {'target': [1, 2, 3, 'hello']}]}"
      ]
     },
     "execution_count": 69,
     "metadata": {},
     "output_type": "execute_result"
    }
   ],
   "source": [
    "d['k1'][3]"
   ]
  },
  {
   "cell_type": "code",
   "execution_count": 71,
   "id": "dfdc577f-5aea-4f58-b4e8-0e6d093c0001",
   "metadata": {},
   "outputs": [
    {
     "data": {
      "text/plain": [
       "['oh', 'man', 'inception', {'target': [1, 2, 3, 'hello']}]"
      ]
     },
     "execution_count": 71,
     "metadata": {},
     "output_type": "execute_result"
    }
   ],
   "source": [
    "d['k1'][3]['trick']"
   ]
  },
  {
   "cell_type": "code",
   "execution_count": 73,
   "id": "8999652f-4c85-4aa6-b338-9b0abb296880",
   "metadata": {},
   "outputs": [
    {
     "data": {
      "text/plain": [
       "{'target': [1, 2, 3, 'hello']}"
      ]
     },
     "execution_count": 73,
     "metadata": {},
     "output_type": "execute_result"
    }
   ],
   "source": [
    "d['k1'][3]['trick'][3]"
   ]
  },
  {
   "cell_type": "code",
   "execution_count": 75,
   "id": "b14ee169-aff2-4508-937f-93c634ec1ac8",
   "metadata": {},
   "outputs": [
    {
     "data": {
      "text/plain": [
       "[1, 2, 3, 'hello']"
      ]
     },
     "execution_count": 75,
     "metadata": {},
     "output_type": "execute_result"
    }
   ],
   "source": [
    "d['k1'][3]['trick'][3]['target']"
   ]
  },
  {
   "cell_type": "code",
   "execution_count": 77,
   "id": "71ebc8b4-8021-4baf-b6ff-b3fc6c262092",
   "metadata": {},
   "outputs": [
    {
     "data": {
      "text/plain": [
       "'hello'"
      ]
     },
     "execution_count": 77,
     "metadata": {},
     "output_type": "execute_result"
    }
   ],
   "source": [
    "d['k1'][3]['trick'][3]['target'][3]"
   ]
  },
  {
   "cell_type": "markdown",
   "id": "49ec17db-b23c-4620-8419-2237e40816ea",
   "metadata": {},
   "source": [
    "### what is the main difference between a tuple and list?"
   ]
  },
  {
   "cell_type": "code",
   "execution_count": 81,
   "id": "2821bb85-06e2-4023-a59a-868f84ca422d",
   "metadata": {},
   "outputs": [],
   "source": [
    "#tuple is represents by the ()  tuple are inmutable\n",
    "#list are represent bt the []   list are mutable\n"
   ]
  },
  {
   "cell_type": "code",
   "execution_count": 85,
   "id": "940111e7-b0d8-4cb6-9fc8-36dd095305f4",
   "metadata": {},
   "outputs": [],
   "source": [
    "# create the function the grabd the email website domain from a string in the form\n",
    "#user@domain.com\n",
    "#so for example ,passing \"user@domain.com\"would return : domain.com"
   ]
  },
  {
   "cell_type": "code",
   "execution_count": 91,
   "id": "541d27cb-11e9-45df-95c2-6e332170f9c4",
   "metadata": {},
   "outputs": [],
   "source": [
    "s='tejuumr2525@.gamile.com'"
   ]
  },
  {
   "cell_type": "code",
   "execution_count": 93,
   "id": "168fe679-b366-4986-98b7-6fa093274ef9",
   "metadata": {},
   "outputs": [
    {
     "data": {
      "text/plain": [
       "['tejuumr2525@.gamile.com']"
      ]
     },
     "execution_count": 93,
     "metadata": {},
     "output_type": "execute_result"
    }
   ],
   "source": [
    "s.split()"
   ]
  },
  {
   "cell_type": "code",
   "execution_count": 95,
   "id": "97618b7b-17fd-4c22-bff6-570bbc16ebe6",
   "metadata": {},
   "outputs": [
    {
     "data": {
      "text/plain": [
       "['tejuumr2525', '.gamile.com']"
      ]
     },
     "execution_count": 95,
     "metadata": {},
     "output_type": "execute_result"
    }
   ],
   "source": [
    "s.split('@')"
   ]
  },
  {
   "cell_type": "code",
   "execution_count": 97,
   "id": "3794d527-3771-471a-bb15-afcd2efbae0a",
   "metadata": {},
   "outputs": [
    {
     "data": {
      "text/plain": [
       "'.gamile.com'"
      ]
     },
     "execution_count": 97,
     "metadata": {},
     "output_type": "execute_result"
    }
   ],
   "source": [
    "s.split('@')[1]"
   ]
  },
  {
   "cell_type": "code",
   "execution_count": 101,
   "id": "f9a6c031-5e65-4281-a349-4347d72099af",
   "metadata": {},
   "outputs": [],
   "source": [
    "def find_domain(e):\n",
    "    return e.split('@')[1]"
   ]
  },
  {
   "cell_type": "code",
   "execution_count": 103,
   "id": "168b87f8-a880-448a-b1a0-7e59c4a25f53",
   "metadata": {},
   "outputs": [
    {
     "data": {
      "text/plain": [
       "'.gamile.com'"
      ]
     },
     "execution_count": 103,
     "metadata": {},
     "output_type": "execute_result"
    }
   ],
   "source": [
    "find_domain('tejuumr2525@.gamile.com')"
   ]
  },
  {
   "cell_type": "markdown",
   "id": "9bcdefc9-9370-4df8-9ba2-5bcbb562233a",
   "metadata": {},
   "source": [
    "## create the fuction that return true if the world 'dog ' is contained in the input string .don't worry about edge cases like a \n",
    "# punctuation beging attached to the world dog ,but do account for capitalization"
   ]
  },
  {
   "cell_type": "code",
   "execution_count": 107,
   "id": "9e7af9d9-3446-466e-9e82-5709f5017d65",
   "metadata": {},
   "outputs": [],
   "source": [
    "s1='is there a dog here'"
   ]
  },
  {
   "cell_type": "code",
   "execution_count": 113,
   "id": "539e3a0d-9d5e-4f35-83f7-ec406b4e0575",
   "metadata": {},
   "outputs": [],
   "source": [
    "def find_dog(s):\n",
    "    return s.split()[3]"
   ]
  },
  {
   "cell_type": "code",
   "execution_count": 115,
   "id": "adb13a44-caee-48cb-b30f-9b3c2dee0e83",
   "metadata": {},
   "outputs": [
    {
     "data": {
      "text/plain": [
       "'dog'"
      ]
     },
     "execution_count": 115,
     "metadata": {},
     "output_type": "execute_result"
    }
   ],
   "source": [
    "find_dog('is there a dog here')"
   ]
  },
  {
   "cell_type": "code",
   "execution_count": 131,
   "id": "5d91e267-f360-4ef0-b8c3-e29085141384",
   "metadata": {},
   "outputs": [],
   "source": [
    "def find_dog(s):\n",
    "    return 'dog'in s"
   ]
  },
  {
   "cell_type": "code",
   "execution_count": 143,
   "id": "b90957f6-6247-4250-8f69-64d656e9a0ab",
   "metadata": {},
   "outputs": [
    {
     "data": {
      "text/plain": [
       "True"
      ]
     },
     "execution_count": 143,
     "metadata": {},
     "output_type": "execute_result"
    }
   ],
   "source": [
    "find_dog('is there a dog  here')"
   ]
  },
  {
   "cell_type": "markdown",
   "id": "d3ae2a3d-b236-45bf-8dea-49d590482cc2",
   "metadata": {},
   "source": [
    "## create a function that counts the number of times the word 'dog'occurs in a string . again ignore edge cases"
   ]
  },
  {
   "cell_type": "code",
   "execution_count": 147,
   "id": "3057ef5d-3462-4b13-9502-e81f0dbef3cf",
   "metadata": {},
   "outputs": [],
   "source": [
    "s2= ' this dog runs faster then the other dog dude!'"
   ]
  },
  {
   "cell_type": "code",
   "execution_count": 167,
   "id": "e90d8b5b-f388-441a-afa1-26c93bb381ac",
   "metadata": {},
   "outputs": [],
   "source": [
    "def find_count(s2):\n",
    "    return s2.count('dog')"
   ]
  },
  {
   "cell_type": "code",
   "execution_count": 169,
   "id": "a1e62277-9edf-4557-bddc-8747644657ec",
   "metadata": {},
   "outputs": [
    {
     "data": {
      "text/plain": [
       "2"
      ]
     },
     "execution_count": 169,
     "metadata": {},
     "output_type": "execute_result"
    }
   ],
   "source": [
    "find_count(' this dog runs faster then the other dog dude!')"
   ]
  },
  {
   "cell_type": "markdown",
   "id": "84768efa-499b-4257-971a-2479ba35c92f",
   "metadata": {},
   "source": [
    "## use lambda expressions and the filter{} function to filter out worrds from a list that don't start with the letter 's'for example "
   ]
  },
  {
   "cell_type": "code",
   "execution_count": 7,
   "id": "6c53c63e-b382-4ec6-b105-2d560e6ffe7a",
   "metadata": {},
   "outputs": [],
   "source": [
    "d=['soup','dog','salad','cat','great']"
   ]
  },
  {
   "cell_type": "code",
   "execution_count": 9,
   "id": "4fd60543-0b6f-4729-b4e7-f4eed293f9a2",
   "metadata": {},
   "outputs": [
    {
     "data": {
      "text/plain": [
       "list"
      ]
     },
     "execution_count": 9,
     "metadata": {},
     "output_type": "execute_result"
    }
   ],
   "source": [
    "type(d)"
   ]
  },
  {
   "cell_type": "code",
   "execution_count": 11,
   "id": "4b717f8f-6162-44b9-917e-f1ecf71dfa6f",
   "metadata": {},
   "outputs": [
    {
     "data": {
      "text/plain": [
       "['dog', 'cat', 'great']"
      ]
     },
     "execution_count": 11,
     "metadata": {},
     "output_type": "execute_result"
    }
   ],
   "source": [
    "list(filter(lambda x:x[0]!='s',d))"
   ]
  },
  {
   "cell_type": "code",
   "execution_count": 23,
   "id": "8d03de0d-8f7d-4b1e-ab47-d5a821ae2d19",
   "metadata": {},
   "outputs": [],
   "source": [
    "def speed_ticket(speed ,birthday):\n",
    "    if birthday==True:\n",
    "        new_speed=speed-5\n",
    "    else: \n",
    "        new_speed=speed\n",
    "        if new_speed<=60:\n",
    "            print(\"NO TICKET\")\n",
    "        elif new_speed>=61 or new_speed>=80:\n",
    "            print(\"SMALL TICKET\")\n",
    "        elif new_speed>80:\n",
    "            print(\"BIG TICKET\")\n",
    "        "
   ]
  },
  {
   "cell_type": "code",
   "execution_count": 39,
   "id": "47fcdc47-b5d5-4dd4-9b67-570b35ab761c",
   "metadata": {},
   "outputs": [
    {
     "name": "stdout",
     "output_type": "stream",
     "text": [
      "SMALL TICKET\n"
     ]
    }
   ],
   "source": [
    "speed_ticket(81,False)"
   ]
  },
  {
   "cell_type": "code",
   "execution_count": 41,
   "id": "ff7a8071-9a77-4c18-b717-53966c3a033b",
   "metadata": {},
   "outputs": [
    {
     "name": "stdin",
     "output_type": "stream",
     "text": [
      "Enter the input number 56\n"
     ]
    },
    {
     "data": {
      "text/plain": [
       "'56'"
      ]
     },
     "execution_count": 41,
     "metadata": {},
     "output_type": "execute_result"
    }
   ],
   "source": [
    "input(\"Enter the input number\")\n"
   ]
  },
  {
   "cell_type": "code",
   "execution_count": 86,
   "id": "fed9be8d-aad8-45fe-a11c-fea296311b28",
   "metadata": {},
   "outputs": [
    {
     "name": "stdin",
     "output_type": "stream",
     "text": [
      "Enter the input number: 88\n"
     ]
    },
    {
     "name": "stdout",
     "output_type": "stream",
     "text": [
      "number is: 176\n",
      "reverse is: 671\n",
      "number is: 847\n",
      "reverse is: 748\n",
      "number is: 847\n",
      "reverse is: 748\n",
      "number is: 1595\n",
      "reverse is: 5951\n",
      "number is: 1595\n",
      "reverse is: 5951\n",
      "number is: 7546\n",
      "reverse is: 6457\n",
      "number is: 7546\n",
      "reverse is: 6457\n",
      "number is: 14003\n",
      "reverse is: 30041\n",
      "number is: 14003\n",
      "reverse is: 30041\n",
      "number is: 44044\n",
      "reverse is: 44044\n",
      "PALINDRON is: 44044\n"
     ]
    }
   ],
   "source": [
    "num1=input(\"Enter the input number:\")\n",
    "num2= int(num1[::-1])\n",
    "num3=str(int(num1)+num2)\n",
    "while num3!=num3[::-1]:\n",
    "    print(\"number is:\",num3)\n",
    "    print(\"reverse is:\",num3[::-1])\n",
    "    num3= str(int(num3)+int(num3[::-1]))\n",
    "    print(\"number is:\",num3)\n",
    "    print(\"reverse is:\",num3[::-1])\n",
    "\n",
    "print(\"PALINDRON is:\",num3)\n",
    " "
   ]
  },
  {
   "cell_type": "code",
   "execution_count": 88,
   "id": "186fe54a-774d-4ee8-a4c4-e83988deb96a",
   "metadata": {},
   "outputs": [],
   "source": [
    "#Question\n",
    "#Given a string print number num by extracting all the\n",
    "#digits from the string as in string\n",
    "#Print negative number if the first character in \n",
    "#string is '-'\n",
    "#eg.\n",
    "#-123abcd should return -123,abcd456-->456,fdhfh78dsd89--->7889,-56dssd78-->-5678"
   ]
  },
  {
   "cell_type": "code",
   "execution_count": 106,
   "id": "d5988487-7478-446e-80f8-2444ff5686b4",
   "metadata": {},
   "outputs": [
    {
     "name": "stdin",
     "output_type": "stream",
     "text": [
      "Enter the input: -dsbhg7778\n"
     ]
    },
    {
     "name": "stdout",
     "output_type": "stream",
     "text": [
      "-7778\n"
     ]
    }
   ],
   "source": [
    "s=input(\"Enter the input:\")\n",
    "num=''\n",
    "numbers=[0,1,2,3,4,5,6,7,8,9]\n",
    "if s[0]=='-':\n",
    "    num=num+s[0]\n",
    "for c in s:\n",
    "    if c in str(numbers):\n",
    "        num = num+c\n",
    "\n",
    "print(num)\n",
    "\n"
   ]
  },
  {
   "cell_type": "code",
   "execution_count": null,
   "id": "a8c8292f-a6ad-4d5f-82b9-2c53de3a8237",
   "metadata": {},
   "outputs": [],
   "source": [
    "Write a python function to find and display the five \n",
    "digit number in which the first digit is two more than \n",
    "the second,the second digit is two more than the third,\n",
    "the fourth digit is two less than the third, and the \n",
    "last digit is two more than\n",
    "the fourth.The sum of the third,fourth and fifth digits\n",
    "equals the first.The sum of all the digits is 19"
   ]
  },
  {
   "cell_type": "code",
   "execution_count": 16,
   "id": "5e640646-5c33-4e10-ae9c-f2a0494a0bca",
   "metadata": {},
   "outputs": [],
   "source": [
    "\n",
    "def find_special_number():\n",
    "    for num in range(10000, 100000):\n",
    "        num_str = str(num)\n",
    "        \n",
    "    \n",
    "        first_digit = int(num_str[0])\n",
    "        second_digit = int(num_str[1])\n",
    "        third_digit = int(num_str[2])\n",
    "        fourth_digit = int(num_str[3])\n",
    "        fifth_digit = int(num_str[4])\n",
    "        \n",
    "        \n",
    "        if (first_digit == second_digit + 2) and \\\n",
    "           (second_digit == third_digit + 2) and \\\n",
    "           (fourth_digit == third_digit - 2) and \\\n",
    "           (fifth_digit == fourth_digit + 2) and \\\n",
    "           (third_digit + fourth_digit + fifth_digit == first_digit) and \\\n",
    "           (sum([first_digit, second_digit, third_digit, fourth_digit, fifth_digit]) == 19):\n",
    "            return num\n"
   ]
  },
  {
   "cell_type": "code",
   "execution_count": 18,
   "id": "a042564f-36b9-44f7-98e1-5801747541fb",
   "metadata": {},
   "outputs": [
    {
     "data": {
      "text/plain": [
       "75313"
      ]
     },
     "execution_count": 18,
     "metadata": {},
     "output_type": "execute_result"
    }
   ],
   "source": [
    "find_special_number()"
   ]
  },
  {
   "cell_type": "code",
   "execution_count": 30,
   "id": "dcff03e8-1e56-45c5-96fd-194dfee3a66a",
   "metadata": {},
   "outputs": [
    {
     "data": {
      "text/plain": [
       "'C:\\\\Users\\\\moret'"
      ]
     },
     "execution_count": 30,
     "metadata": {},
     "output_type": "execute_result"
    }
   ],
   "source": [
    "pwd"
   ]
  },
  {
   "cell_type": "code",
   "execution_count": null,
   "id": "614de49a-fa83-4b0a-abf2-a60089cb2785",
   "metadata": {},
   "outputs": [],
   "source": []
  }
 ],
 "metadata": {
  "kernelspec": {
   "display_name": "Python 3 (ipykernel)",
   "language": "python",
   "name": "python3"
  },
  "language_info": {
   "codemirror_mode": {
    "name": "ipython",
    "version": 3
   },
   "file_extension": ".py",
   "mimetype": "text/x-python",
   "name": "python",
   "nbconvert_exporter": "python",
   "pygments_lexer": "ipython3",
   "version": "3.12.4"
  }
 },
 "nbformat": 4,
 "nbformat_minor": 5
}
